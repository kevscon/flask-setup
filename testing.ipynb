{
 "cells": [
  {
   "cell_type": "code",
   "execution_count": 4,
   "id": "cc892bf1-2e65-4445-a424-47b00ea6bda1",
   "metadata": {},
   "outputs": [],
   "source": [
    "import json"
   ]
  },
  {
   "cell_type": "code",
   "execution_count": 1,
   "id": "bb96c67a-2bfc-4732-835d-ee1caab4dbde",
   "metadata": {},
   "outputs": [],
   "source": [
    "import pandas as pd"
   ]
  },
  {
   "cell_type": "code",
   "execution_count": 5,
   "id": "cf2e5aa1-0f6b-4af7-8c4f-26de9cd7fd82",
   "metadata": {},
   "outputs": [],
   "source": [
    "with open('data/return_props.json', 'r') as file:\n",
    "    return_props = json.load(file)\n",
    "with open('data/shape_table_labels.json', 'r') as file:\n",
    "    prop_dict = json.load(file)"
   ]
  },
  {
   "cell_type": "code",
   "execution_count": 7,
   "id": "59ebda42-1969-47a8-88c0-cec008d2ccd4",
   "metadata": {},
   "outputs": [],
   "source": [
    "prop_labels = [prop_dict[prop]['label'] for prop in return_props]\n",
    "units = [prop_dict[prop]['units'] for prop in return_props]"
   ]
  },
  {
   "cell_type": "code",
   "execution_count": 8,
   "id": "05a491e7-d51d-409b-b8f5-f0ff1f7cade2",
   "metadata": {},
   "outputs": [],
   "source": [
    "data = {\n",
    "    'labels': prop_labels,\n",
    "    'units': units\n",
    "}\n",
    "df = pd.DataFrame(data)"
   ]
  },
  {
   "cell_type": "code",
   "execution_count": null,
   "id": "518fc515-00fb-47c6-b0f8-132041dec13a",
   "metadata": {},
   "outputs": [],
   "source": []
  },
  {
   "cell_type": "code",
   "execution_count": null,
   "id": "7c60215d-8b24-41b4-8ae7-3efdc2317aa5",
   "metadata": {},
   "outputs": [],
   "source": []
  },
  {
   "cell_type": "code",
   "execution_count": null,
   "id": "1e6e1ee7-b9cf-4a54-a3af-d0839f254c8e",
   "metadata": {},
   "outputs": [],
   "source": []
  },
  {
   "cell_type": "code",
   "execution_count": 4,
   "id": "2aa7aa33-2466-402e-924a-5b69ba5b1f6f",
   "metadata": {},
   "outputs": [],
   "source": [
    "with open('data/return_props.json', 'r') as file:\n",
    "    return_props = json.load(file)\n",
    "with open('data/shape_table_labels.json', 'r') as file:\n",
    "    prop_dict = json.load(file)"
   ]
  },
  {
   "cell_type": "code",
   "execution_count": 14,
   "id": "74d1bd25-467d-4a65-bb24-371aac7cf0b0",
   "metadata": {},
   "outputs": [
    {
     "data": {
      "text/plain": [
       "['Shape Size',\n",
       " 'Weight',\n",
       " 'Area',\n",
       " 'h',\n",
       " 'd',\n",
       " 'b',\n",
       " 'b<sub>f</sub>',\n",
       " 't',\n",
       " 't<sub>des</sub>',\n",
       " 'OD',\n",
       " 'ID',\n",
       " 't<sub>w</sub>',\n",
       " 't<sub>f</sub>',\n",
       " 'k<sub>des</sub>',\n",
       " 'k<sub>1</sub>',\n",
       " 'T',\n",
       " 'perimeter',\n",
       " 'x&#772;',\n",
       " 'y&#772;',\n",
       " 'I<sub>x</sub>',\n",
       " 'Z<sub>x</sub>',\n",
       " 'S<sub>x</sub>',\n",
       " 'r<sub>x</sub>',\n",
       " 'I<sub>y</sub>',\n",
       " 'Z<sub>y</sub>',\n",
       " 'S<sub>y</sub>',\n",
       " 'r<sub>y</sub>']"
      ]
     },
     "execution_count": 14,
     "metadata": {},
     "output_type": "execute_result"
    }
   ],
   "source": [
    "prop_labels = [prop_dict[prop]['label'] for prop in return_props]\n",
    "prop_labels"
   ]
  },
  {
   "cell_type": "code",
   "execution_count": 10,
   "id": "add3d7be-260b-470f-96ba-81fc478220ef",
   "metadata": {},
   "outputs": [
    {
     "data": {
      "text/plain": [
       "['',\n",
       " 'lb/ft',\n",
       " 'in<sup>2</sup>',\n",
       " 'in',\n",
       " 'in',\n",
       " 'in',\n",
       " 'in',\n",
       " 'in',\n",
       " 'in',\n",
       " 'in',\n",
       " 'in',\n",
       " 'in',\n",
       " 'in',\n",
       " 'in',\n",
       " 'in',\n",
       " 'in',\n",
       " 'in',\n",
       " 'in',\n",
       " 'in',\n",
       " 'in<sup>4</sup>',\n",
       " 'in<sup>3</sup>',\n",
       " 'in<sup>3</sup>',\n",
       " 'in',\n",
       " 'in<sup>4</sup>',\n",
       " 'in<sup>3</sup>',\n",
       " 'in<sup>3</sup>',\n",
       " 'in']"
      ]
     },
     "execution_count": 10,
     "metadata": {},
     "output_type": "execute_result"
    }
   ],
   "source": [
    "units = [prop_dict[prop]['units'] for prop in return_props]\n",
    "units"
   ]
  },
  {
   "cell_type": "code",
   "execution_count": null,
   "id": "684baad5-55ae-4449-91d6-bc65ff8c202a",
   "metadata": {},
   "outputs": [],
   "source": []
  }
 ],
 "metadata": {
  "kernelspec": {
   "display_name": "Python 3 (ipykernel)",
   "language": "python",
   "name": "python3"
  },
  "language_info": {
   "codemirror_mode": {
    "name": "ipython",
    "version": 3
   },
   "file_extension": ".py",
   "mimetype": "text/x-python",
   "name": "python",
   "nbconvert_exporter": "python",
   "pygments_lexer": "ipython3",
   "version": "3.8.2"
  }
 },
 "nbformat": 4,
 "nbformat_minor": 5
}
