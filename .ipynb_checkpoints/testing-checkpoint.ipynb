{
 "cells": [
  {
   "cell_type": "code",
   "execution_count": 1,
   "id": "cc892bf1-2e65-4445-a424-47b00ea6bda1",
   "metadata": {},
   "outputs": [],
   "source": [
    "import json"
   ]
  },
  {
   "cell_type": "code",
   "execution_count": 4,
   "id": "2aa7aa33-2466-402e-924a-5b69ba5b1f6f",
   "metadata": {},
   "outputs": [],
   "source": [
    "with open('data/return_props.json', 'r') as file:\n",
    "    return_props = json.load(file)\n",
    "with open('data/shape_table_labels.json', 'r') as file:\n",
    "    prop_dict = json.load(file)"
   ]
  },
  {
   "cell_type": "code",
   "execution_count": 7,
   "id": "74d1bd25-467d-4a65-bb24-371aac7cf0b0",
   "metadata": {},
   "outputs": [
    {
     "data": {
      "text/plain": [
       "['Shape Size',\n",
       " 'Weight',\n",
       " 'Area',\n",
       " 'h',\n",
       " 'd',\n",
       " 'b',\n",
       " 'b<sub>f</sub>',\n",
       " 't',\n",
       " 't<sub>des</sub>',\n",
       " 'OD',\n",
       " 'ID',\n",
       " 't<sub>w</sub>',\n",
       " 't<sub>f</sub>',\n",
       " 'k<sub>des</sub>',\n",
       " 'k<sub>1</sub>',\n",
       " 'T',\n",
       " 'perimeter',\n",
       " 'x&#772;',\n",
       " 'y&#772;',\n",
       " 'I<sub>x</sub>',\n",
       " 'Z<sub>x</sub>',\n",
       " 'S<sub>x</sub>',\n",
       " 'r<sub>x</sub>',\n",
       " 'I<sub>y</sub>',\n",
       " 'Z<sub>y</sub>',\n",
       " 'S<sub>y</sub>',\n",
       " 'r<sub>y</sub>']"
      ]
     },
     "execution_count": 7,
     "metadata": {},
     "output_type": "execute_result"
    }
   ],
   "source": [
    "labels = [prop_dict[prop]['label'] for prop in return_props]\n",
    "labels"
   ]
  },
  {
   "cell_type": "code",
   "execution_count": 10,
   "id": "add3d7be-260b-470f-96ba-81fc478220ef",
   "metadata": {},
   "outputs": [
    {
     "data": {
      "text/plain": [
       "['',\n",
       " 'lb/ft',\n",
       " 'in<sup>2</sup>',\n",
       " 'in',\n",
       " 'in',\n",
       " 'in',\n",
       " 'in',\n",
       " 'in',\n",
       " 'in',\n",
       " 'in',\n",
       " 'in',\n",
       " 'in',\n",
       " 'in',\n",
       " 'in',\n",
       " 'in',\n",
       " 'in',\n",
       " 'in',\n",
       " 'in',\n",
       " 'in',\n",
       " 'in<sup>4</sup>',\n",
       " 'in<sup>3</sup>',\n",
       " 'in<sup>3</sup>',\n",
       " 'in',\n",
       " 'in<sup>4</sup>',\n",
       " 'in<sup>3</sup>',\n",
       " 'in<sup>3</sup>',\n",
       " 'in']"
      ]
     },
     "execution_count": 10,
     "metadata": {},
     "output_type": "execute_result"
    }
   ],
   "source": [
    "units = [prop_dict[prop]['units'] for prop in return_props]\n",
    "units"
   ]
  },
  {
   "cell_type": "code",
   "execution_count": null,
   "id": "aac1c3e2-6e7d-4bde-ba81-48349f16b7b7",
   "metadata": {},
   "outputs": [],
   "source": []
  }
 ],
 "metadata": {
  "kernelspec": {
   "display_name": "Python 3 (ipykernel)",
   "language": "python",
   "name": "python3"
  },
  "language_info": {
   "codemirror_mode": {
    "name": "ipython",
    "version": 3
   },
   "file_extension": ".py",
   "mimetype": "text/x-python",
   "name": "python",
   "nbconvert_exporter": "python",
   "pygments_lexer": "ipython3",
   "version": "3.8.2"
  }
 },
 "nbformat": 4,
 "nbformat_minor": 5
}
